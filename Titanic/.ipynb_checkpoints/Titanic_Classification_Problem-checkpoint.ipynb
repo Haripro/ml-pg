{
 "cells": [
  {
   "cell_type": "code",
   "execution_count": null,
   "metadata": {},
   "outputs": [],
   "source": [
    "import pandas as pd\n",
    "import numpy as np\n",
    "import random as rd\n",
    "\n",
    "import seaborn as sns\n",
    "import matplotlib.pyplot as plt\n",
    "%matplotlib inline\n",
    "\n",
    "from sklearn.linear_model import LogisticRegression\n",
    "from sklearn.linear_model import SGDClassifier\n",
    "from sklearn.svm import SVC, LinearSVC\n",
    "from sklearn.ensemble import RandomForestClassifier"
   ]
  },
  {
   "cell_type": "code",
   "execution_count": null,
   "metadata": {},
   "outputs": [],
   "source": [
    "train_df=pd.read_csv('train.csv')\n",
    "test_df=pd.read_csv('test.csv')"
   ]
  },
  {
   "cell_type": "code",
   "execution_count": null,
   "metadata": {},
   "outputs": [],
   "source": [
    "print(train_df.info())\n",
    "print('\\n------\\n')\n",
    "print(test_df.info())"
   ]
  },
  {
   "cell_type": "code",
   "execution_count": null,
   "metadata": {},
   "outputs": [],
   "source": [
    "total_null = train_df.isnull().sum()\n",
    "total = train_df.isnull().count()\n",
    "percent = total_null/total*100\n",
    "print(percent)"
   ]
  },
  {
   "cell_type": "code",
   "execution_count": null,
   "metadata": {},
   "outputs": [],
   "source": [
    "women = train_df[train_df['Sex']=='female']\n",
    "men = train_df[train_df['Sex']=='male']\n",
    "\n",
    "msurv = men[men['Survived']==1]\n",
    "mnsurv = men[men['Survived']==0]\n",
    "fsurv = women[women['Survived']==1]\n",
    "fnsurv = women[women['Survived']==0]\n",
    "\n",
    "fig, axes = plt.subplots(nrows=1, ncols=2, figsize=(10,5))\n",
    "sns.distplot(msurv.Age.dropna(),kde=False,label='Men survived',ax=axes[0]).legend()\n",
    "sns.distplot(mnsurv.Age.dropna(),kde=False,label='Men not survived',ax=axes[0]).legend()\n",
    "\n",
    "sns.distplot(msurv.Age.dropna(),kde=False,label='Men survived',ax=axes[1]).legend()\n",
    "sns.distplot(mnsurv.Age.dropna(),kde=False,label='Men not survived',ax=axes[1]).legend()"
   ]
  },
  {
   "cell_type": "code",
   "execution_count": null,
   "metadata": {},
   "outputs": [],
   "source": [
    "sns.barplot(x='Pclass',y='Survived',data=train_df)\n",
    "grid=sns.FacetGrid(train_df,row='Pclass',col='Survived')\n",
    "grid.map(plt.hist,'Age')"
   ]
  },
  {
   "cell_type": "code",
   "execution_count": null,
   "metadata": {},
   "outputs": [],
   "source": [
    "train_df['relatives'] = train_df['SibSp'] + train_df['Parch']\n",
    "train_df['not_alone'] = train_df.relatives.astype(bool).astype(int)\n",
    "test_df['relatives'] = test_df['SibSp'] + test_df['Parch']\n",
    "test_df['not_alone'] = test_df.relatives.astype(bool).astype(int)\n",
    "print(train_df['not_alone'].value_counts())\n",
    "print(test_df['not_alone'].value_counts())"
   ]
  },
  {
   "cell_type": "code",
   "execution_count": null,
   "metadata": {},
   "outputs": [],
   "source": [
    "ds = [train_df, test_df]\n",
    "mean = train_df['Age'].mean()\n",
    "std = train_df['Age'].std()\n",
    "for d in ds:\n",
    "    null_data = d['Age'].isnull().sum()\n",
    "    dcopy = d['Age'].copy()\n",
    "    rand_dig = np.random.randint(mean-std, mean + std, size = null_data)\n",
    "    dcopy[np.isnan(dcopy)] = rand_dig\n",
    "    d['Age1'] = dcopy.astype(int)\n",
    "\n",
    "train_df['Age1']\n",
    "test_df['Age1']"
   ]
  },
  {
   "cell_type": "code",
   "execution_count": null,
   "metadata": {},
   "outputs": [],
   "source": [
    "train_df['Embarked'].describe()\n",
    "ds = [train_df, test_df]\n",
    "for d in ds:\n",
    "    d['Embarked'] = d['Embarked'].fillna('S')"
   ]
  },
  {
   "cell_type": "code",
   "execution_count": null,
   "metadata": {},
   "outputs": [],
   "source": [
    "train_df.info()"
   ]
  },
  {
   "cell_type": "code",
   "execution_count": null,
   "metadata": {},
   "outputs": [],
   "source": [
    "ds = [train_df,test_df]\n",
    "for d in ds:\n",
    "    d['Fare'] = d['Fare'].fillna(0)"
   ]
  },
  {
   "cell_type": "code",
   "execution_count": null,
   "metadata": {},
   "outputs": [],
   "source": [
    "genders = {'male':0, 'female':1}\n",
    "ds = [train_df,test_df]\n",
    "for d in ds:\n",
    "    d['Sex1'] = d['Sex'].map(genders)"
   ]
  },
  {
   "cell_type": "code",
   "execution_count": null,
   "metadata": {},
   "outputs": [],
   "source": [
    "scq = {'S':0, 'C':1, 'Q':2}\n",
    "ds = [train_df,test_df]\n",
    "for d in ds:\n",
    "    d['Embarked1'] = d['Embarked'].map(scq)"
   ]
  },
  {
   "cell_type": "code",
   "execution_count": null,
   "metadata": {},
   "outputs": [],
   "source": [
    "train_df.info()"
   ]
  },
  {
   "cell_type": "code",
   "execution_count": null,
   "metadata": {},
   "outputs": [],
   "source": [
    "ds = [train_df,test_df]\n",
    "for d in ds:\n",
    "    d.loc[(d['Age1'] <= 11), 'Age1'] = 0\n",
    "    d.loc[(d['Age1'] > 11) & (d['Age1'] <= 20), 'Age1'] = 1\n",
    "    d.loc[(d['Age1'] > 20) & (d['Age1'] <= 30), 'Age1'] = 2\n",
    "    d.loc[(d['Age1'] > 30) & (d['Age1'] <= 40), 'Age1'] = 3\n",
    "    d.loc[(d['Age1'] > 40) & (d['Age1'] <= 50), 'Age1'] = 4\n",
    "    d.loc[(d['Age1'] > 50) & (d['Age1'] <= 60), 'Age1'] = 5\n",
    "    d.loc[(d['Age1'] > 60) & (d['Age1'] <= 70), 'Age1'] = 6\n",
    "    d.loc[(d['Age1'] > 70) & (d['Age1'] <= 80), 'Age1'] = 7    "
   ]
  },
  {
   "cell_type": "code",
   "execution_count": null,
   "metadata": {},
   "outputs": [],
   "source": [
    "train_df.info()"
   ]
  },
  {
   "cell_type": "code",
   "execution_count": null,
   "metadata": {},
   "outputs": [],
   "source": [
    "# pd.DataFrame(train_df, columns=['Pclass','Sex1','Age1','Embarked1','not_alone','relatives','Fare','SibSp','Parch','Survived'])\n",
    "sns.distplot(train_df['Fare'], kde=True, hist=True,bins=int(180/5), color = 'blue')\n",
    "train_df['Fare'].sort_values(ascending=False)"
   ]
  },
  {
   "cell_type": "code",
   "execution_count": null,
   "metadata": {},
   "outputs": [],
   "source": [
    "ds = [train_df,test_df]\n",
    "for d in ds:\n",
    "    d.loc[ d['Fare'] <= 7.91, 'Fare1'] = 0\n",
    "    d.loc[(d['Fare'] > 7.91) & (d['Fare'] <= 14.454), 'Fare1'] = 1\n",
    "    d.loc[(d['Fare'] > 14.454) & (d['Fare'] <= 31), 'Fare1']   = 2\n",
    "    d.loc[(d['Fare'] > 31) & (d['Fare'] <= 99), 'Fare1']   = 3\n",
    "    d.loc[(d['Fare'] > 99) & (d['Fare'] <= 250), 'Fare1']   = 4\n",
    "    d.loc[ d['Fare'] > 250, 'Fare1'] = 5\n",
    "    d['Fare1'] = d['Fare1'].astype(int)\n",
    "train_df['Fare1'].value_counts()"
   ]
  },
  {
   "cell_type": "code",
   "execution_count": null,
   "metadata": {},
   "outputs": [],
   "source": [
    "X_train = pd.DataFrame(train_df, columns=['Pclass','Sex1','Age1','Embarked1','not_alone','relatives','Fare1','SibSp','Parch'])\n",
    "Y_train = pd.DataFrame(train_df, columns=['Survived'])\n",
    "X_test = pd.DataFrame(test_df, columns=['Pclass','Sex1','Age1','Embarked1','not_alone','relatives','Fare1','SibSp','Parch'])"
   ]
  },
  {
   "cell_type": "code",
   "execution_count": null,
   "metadata": {},
   "outputs": [],
   "source": [
    "X_test.info()"
   ]
  },
  {
   "cell_type": "code",
   "execution_count": null,
   "metadata": {},
   "outputs": [],
   "source": [
    "sgd = SGDClassifier(max_iter=5,tol=None)\n",
    "sgd.fit(X_train, Y_train)\n",
    "Y_pred = sgd.predict(X_test)\n",
    "\n",
    "print(sgd.score(X_train,Y_train))\n",
    "acc_sgd = round(sgd.score(X_train, Y_train) * 100, 2)\n",
    "print(acc_sgd)"
   ]
  },
  {
   "cell_type": "code",
   "execution_count": null,
   "metadata": {},
   "outputs": [],
   "source": [
    "logreg = LogisticRegression().fit(X_train,Y_train)\n",
    "Y_pred = logreg.predict(X_test)\n",
    "\n",
    "test_df['Survived'] = Y_pred\n",
    "pd.DataFrame(test_df, columns=['PassengerId', 'Survived']).to_csv('submit.csv', index=False)\n",
    "\n",
    "\n",
    "print(logreg.score(X_train, Y_train))\n",
    "acc_logreg = round(logreg.score(X_train, Y_train) * 100, 2)\n",
    "print(acc_logreg)"
   ]
  },
  {
   "cell_type": "code",
   "execution_count": null,
   "metadata": {},
   "outputs": [],
   "source": [
    "sgd = SGDClassifier(max_iter=10,tol=None,loss='hinge')\n",
    "sgd.fit(X_train, Y_train)\n",
    "Y_pred = sgd.predict(X_test)\n",
    "\n",
    "print(sgd.score(X_train,Y_train))\n",
    "acc_sgd = round(sgd.score(X_train, Y_train) * 100, 2)\n",
    "print(acc_sgd)"
   ]
  },
  {
   "cell_type": "code",
   "execution_count": null,
   "metadata": {},
   "outputs": [],
   "source": [
    "lsvm = LinearSVC().fit(X_train, Y_train)\n",
    "Y_pred = lsvm.predict(X_test)\n",
    "\n",
    "test_df['Survived'] = Y_pred\n",
    "pd.DataFrame(test_df, columns=['PassengerId', 'Survived']).to_csv('submit.csv', index=False)\n",
    "\n",
    "print(lsvm.score(X_train, Y_train))\n",
    "acc_lsvm = round(lsvm.score(X_train, Y_train) * 100, 2)\n",
    "print(acc_lsvm)"
   ]
  },
  {
   "cell_type": "code",
   "execution_count": null,
   "metadata": {},
   "outputs": [],
   "source": [
    "test_df['Survived'] = Y_pred\n",
    "pd.DataFrame(test_df, columns=['PassengerId', 'Survived']).to_csv('submit.csv', index=False)"
   ]
  },
  {
   "cell_type": "code",
   "execution_count": null,
   "metadata": {},
   "outputs": [],
   "source": [
    "rfc = RandomForestClassifier(n_estimators=100)\n",
    "rfc.fit(X_train, Y_train)\n",
    "Y_pred = rfc.predict(X_test)\n",
    "\n",
    "test_df['Survived'] = Y_pred\n",
    "pd.DataFrame(test_df, columns=['PassengerId', 'Survived']).to_csv('submit.csv', index=False)\n",
    "\n",
    "\n",
    "print(rfc.score(X_train, Y_train))\n",
    "print(round(rfc.score(X_train, Y_train)*100, 2))"
   ]
  },
  {
   "cell_type": "code",
   "execution_count": null,
   "metadata": {},
   "outputs": [],
   "source": []
  }
 ],
 "metadata": {
  "kernelspec": {
   "display_name": "Python 3",
   "language": "python",
   "name": "python3"
  },
  "language_info": {
   "codemirror_mode": {
    "name": "ipython",
    "version": 3
   },
   "file_extension": ".py",
   "mimetype": "text/x-python",
   "name": "python",
   "nbconvert_exporter": "python",
   "pygments_lexer": "ipython3",
   "version": "3.7.4"
  }
 },
 "nbformat": 4,
 "nbformat_minor": 2
}
